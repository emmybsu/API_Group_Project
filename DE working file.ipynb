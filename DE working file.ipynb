{
 "cells": [
  {
   "cell_type": "code",
   "execution_count": 9,
   "metadata": {},
   "outputs": [],
   "source": [
    "import requests\n",
    "import matplotlib.pyplot as plt\n",
    "import pandas as pd\n",
    "import numpy as np\n",
    "import requests\n",
    "import time\n",
    "from scipy.stats import linregress\n",
    "import json"
   ]
  },
  {
   "cell_type": "markdown",
   "metadata": {},
   "source": [
    "This query is the framework to get the Review data and the key to search for demographics below"
   ]
  },
  {
   "cell_type": "code",
   "execution_count": 51,
   "metadata": {},
   "outputs": [],
   "source": [
    "# query_url = f\"{url}appid={weather_api_key}&units={units}&q=\"\n",
    "query_url =\"https://api.citygridmedia.com/content/reviews/v2/search/latlon?lat=34.10652&lon=-118.411509&radius=10&what=sushi&publisher=10000027998&format=json\"\n",
    " \n",
    "response = requests.get(query_url).json()\n",
    "\n",
    "BizName = response['results']['reviews'][0]['business_name']\n",
    "ReviewID=response['results']['reviews'][0]['review_id']\n",
    "ReviewRating= response['results']['reviews'][0]['review_rating']\n",
    "ListingID= response['results']['reviews'][0]['listing_id']\n"
   ]
  },
  {
   "cell_type": "code",
   "execution_count": 52,
   "metadata": {},
   "outputs": [],
   "source": [
    "# Uncomment to see a clean print of the json in the reviews response above\n",
    "# print(json.dumps(response, indent=4, sort_keys=True))"
   ]
  },
  {
   "cell_type": "markdown",
   "metadata": {},
   "source": [
    "This query is the framework to pass the business listing id from the review data to the places detail API to get the city, state, and zip"
   ]
  },
  {
   "cell_type": "code",
   "execution_count": 53,
   "metadata": {},
   "outputs": [
    {
     "name": "stdout",
     "output_type": "stream",
     "text": [
      "business name: Sushi Dan  biz ID: 41690352 \n",
      "City: Los Angeles  State: CA  Zip: 90046\n",
      "ReviewID: ip_10300281341  Rating: 8\n"
     ]
    }
   ],
   "source": [
    "places_url = 'http://api.citygridmedia.com/content/places/v2/detail?id=41690352&id_type=cs&client_ip=123.4.56.78&publisher=10000027998&format=json'\n",
    "\n",
    "places_response = requests.get(places_url).json()\n",
    "\n",
    "BizCity = places_response['locations'][0]['address']['city']\n",
    "BizSt=places_response['locations'][0]['address']['state']\n",
    "BizZip=places_response['locations'][0]['address']['postal_code']\n",
    "\n",
    "print(f'business name: {BizName}  biz ID: {ListingID} \\nCity: {BizCity}  State: {BizSt}  Zip: {BizZip}\\nReviewID: {ReviewID}  Rating: {ReviewRating}'    )"
   ]
  },
  {
   "cell_type": "code",
   "execution_count": 54,
   "metadata": {},
   "outputs": [],
   "source": [
    "# Uncomment to see a clean print of the json in the places detail response above\n",
    "# print(json.dumps(places_response, indent=4, sort_keys=True))"
   ]
  },
  {
   "cell_type": "markdown",
   "metadata": {},
   "source": [
    "We need to:\n",
    "    1. Set up a dataframe blank table\n",
    "    2. set up for loops for each API call and itterate through to capture our data"
   ]
  }
 ],
 "metadata": {
  "kernelspec": {
   "display_name": "Python 3",
   "language": "python",
   "name": "python3"
  },
  "language_info": {
   "codemirror_mode": {
    "name": "ipython",
    "version": 3
   },
   "file_extension": ".py",
   "mimetype": "text/x-python",
   "name": "python",
   "nbconvert_exporter": "python",
   "pygments_lexer": "ipython3",
   "version": "3.8.5"
  }
 },
 "nbformat": 4,
 "nbformat_minor": 4
}
