{
 "cells": [
  {
   "cell_type": "code",
   "execution_count": 58,
   "metadata": {},
   "outputs": [],
   "source": [
    "import requests\n",
    "import matplotlib.pyplot as plt\n",
    "import pandas as pd\n",
    "import numpy as np\n",
    "import requests\n",
    "import time\n",
    "from scipy.stats import linregress\n",
    "import json\n",
    "publisherid=10000027998"
   ]
  },
  {
   "cell_type": "markdown",
   "metadata": {},
   "source": [
    "This query is the framework to get the Review data and the key to search for demographics below"
   ]
  },
  {
   "cell_type": "code",
   "execution_count": 59,
   "metadata": {},
   "outputs": [
    {
     "data": {
      "text/html": [
       "<div>\n",
       "<style scoped>\n",
       "    .dataframe tbody tr th:only-of-type {\n",
       "        vertical-align: middle;\n",
       "    }\n",
       "\n",
       "    .dataframe tbody tr th {\n",
       "        vertical-align: top;\n",
       "    }\n",
       "\n",
       "    .dataframe thead th {\n",
       "        text-align: right;\n",
       "    }\n",
       "</style>\n",
       "<table border=\"1\" class=\"dataframe\">\n",
       "  <thead>\n",
       "    <tr style=\"text-align: right;\">\n",
       "      <th></th>\n",
       "      <th>Name</th>\n",
       "      <th>BizID</th>\n",
       "      <th>City</th>\n",
       "      <th>State</th>\n",
       "      <th>Zip</th>\n",
       "      <th>ReviewID</th>\n",
       "      <th>Rating</th>\n",
       "    </tr>\n",
       "  </thead>\n",
       "  <tbody>\n",
       "  </tbody>\n",
       "</table>\n",
       "</div>"
      ],
      "text/plain": [
       "Empty DataFrame\n",
       "Columns: [Name, BizID, City, State, Zip, ReviewID, Rating]\n",
       "Index: []"
      ]
     },
     "execution_count": 59,
     "metadata": {},
     "output_type": "execute_result"
    }
   ],
   "source": [
    "review_df=pd.DataFrame(columns=[\"Name\",\"BizID\",\"City\",\"State\",\"Zip\",\"ReviewID\",\"Rating\"])\n",
    "review_df"
   ]
  },
  {
   "cell_type": "code",
   "execution_count": 60,
   "metadata": {},
   "outputs": [],
   "source": [
    "# query_url = f\"{url}appid={weather_api_key}&units={units}&q=\"\n",
    "query_url =\"https://api.citygridmedia.com/content/reviews/v2/search/where?what=barbeque&where=new york,NY&publisher=10000027998&format=json&rpp=50\"\n",
    "cities={\"Austin, TX\",\"Memphis, TN\",\"Kansas City, MO\", \"Charlotte, NC\",\"New York, NY\"}\n",
    "\n",
    "response = requests.get(query_url).json()\n",
    "Index=0\n",
    "\n",
    "# for city in cities:\n",
    "#     city=cities\n",
    "    \n",
    "review_df.loc[Index,\"Name\"] = response['results']['reviews'][0]['business_name']\n",
    "review_df.loc[Index,\"ReviewID\"] =response['results']['reviews'][0]['review_id']\n",
    "review_df.loc[Index,\"Rating\"] = response['results']['reviews'][0]['review_rating']\n",
    "review_df.loc[Index,\"BizID\"] = response['results']['reviews'][0]['listing_id']\n"
   ]
  },
  {
   "cell_type": "code",
   "execution_count": 61,
   "metadata": {},
   "outputs": [
    {
     "data": {
      "text/html": [
       "<div>\n",
       "<style scoped>\n",
       "    .dataframe tbody tr th:only-of-type {\n",
       "        vertical-align: middle;\n",
       "    }\n",
       "\n",
       "    .dataframe tbody tr th {\n",
       "        vertical-align: top;\n",
       "    }\n",
       "\n",
       "    .dataframe thead th {\n",
       "        text-align: right;\n",
       "    }\n",
       "</style>\n",
       "<table border=\"1\" class=\"dataframe\">\n",
       "  <thead>\n",
       "    <tr style=\"text-align: right;\">\n",
       "      <th></th>\n",
       "      <th>Name</th>\n",
       "      <th>BizID</th>\n",
       "      <th>City</th>\n",
       "      <th>State</th>\n",
       "      <th>Zip</th>\n",
       "      <th>ReviewID</th>\n",
       "      <th>Rating</th>\n",
       "    </tr>\n",
       "  </thead>\n",
       "  <tbody>\n",
       "    <tr>\n",
       "      <th>0</th>\n",
       "      <td>Atomic Wings at The GAF</td>\n",
       "      <td>775898270</td>\n",
       "      <td>NaN</td>\n",
       "      <td>NaN</td>\n",
       "      <td>NaN</td>\n",
       "      <td>grub_-508502831</td>\n",
       "      <td>8</td>\n",
       "    </tr>\n",
       "  </tbody>\n",
       "</table>\n",
       "</div>"
      ],
      "text/plain": [
       "                      Name      BizID City State  Zip         ReviewID Rating\n",
       "0  Atomic Wings at The GAF  775898270  NaN   NaN  NaN  grub_-508502831      8"
      ]
     },
     "execution_count": 61,
     "metadata": {},
     "output_type": "execute_result"
    }
   ],
   "source": [
    "review_df"
   ]
  },
  {
   "cell_type": "code",
   "execution_count": 62,
   "metadata": {},
   "outputs": [],
   "source": [
    "# Uncomment to see a clean print of the json in the reviews response above\n",
    "# print(json.dumps(response, indent=4, sort_keys=True))"
   ]
  },
  {
   "cell_type": "markdown",
   "metadata": {},
   "source": [
    "This query is the framework to pass the business listing id from the review data to the places detail API to get the city, state, and zip"
   ]
  },
  {
   "cell_type": "code",
   "execution_count": 63,
   "metadata": {},
   "outputs": [
    {
     "name": "stdout",
     "output_type": "stream",
     "text": [
      "business name: Atomic Wings at The GAF  biz ID: 775898270 \n",
      "City: New York  State: NY  Zip: 10128\n",
      "ReviewID: grub_-508502831  Rating: 8\n"
     ]
    },
    {
     "data": {
      "text/html": [
       "<div>\n",
       "<style scoped>\n",
       "    .dataframe tbody tr th:only-of-type {\n",
       "        vertical-align: middle;\n",
       "    }\n",
       "\n",
       "    .dataframe tbody tr th {\n",
       "        vertical-align: top;\n",
       "    }\n",
       "\n",
       "    .dataframe thead th {\n",
       "        text-align: right;\n",
       "    }\n",
       "</style>\n",
       "<table border=\"1\" class=\"dataframe\">\n",
       "  <thead>\n",
       "    <tr style=\"text-align: right;\">\n",
       "      <th></th>\n",
       "      <th>Name</th>\n",
       "      <th>BizID</th>\n",
       "      <th>City</th>\n",
       "      <th>State</th>\n",
       "      <th>Zip</th>\n",
       "      <th>ReviewID</th>\n",
       "      <th>Rating</th>\n",
       "    </tr>\n",
       "  </thead>\n",
       "  <tbody>\n",
       "    <tr>\n",
       "      <th>0</th>\n",
       "      <td>Atomic Wings at The GAF</td>\n",
       "      <td>775898270</td>\n",
       "      <td>New York</td>\n",
       "      <td>NY</td>\n",
       "      <td>10128</td>\n",
       "      <td>grub_-508502831</td>\n",
       "      <td>8</td>\n",
       "    </tr>\n",
       "  </tbody>\n",
       "</table>\n",
       "</div>"
      ],
      "text/plain": [
       "                      Name      BizID      City State    Zip         ReviewID  \\\n",
       "0  Atomic Wings at The GAF  775898270  New York    NY  10128  grub_-508502831   \n",
       "\n",
       "  Rating  \n",
       "0      8  "
      ]
     },
     "execution_count": 63,
     "metadata": {},
     "output_type": "execute_result"
    }
   ],
   "source": [
    "places_url = f'http://api.citygridmedia.com/content/places/v2/detail?id={ListingID}&id_type=cs&client_ip=123.4.56.78&publisher={publisherid}&format=json'\n",
    "\n",
    "places_response = requests.get(places_url).json()\n",
    "\n",
    "review_df.loc[Index,\"City\"] = places_response['locations'][0]['address']['city']\n",
    "review_df.loc[Index,\"State\"]=places_response['locations'][0]['address']['state']\n",
    "review_df.loc[Index,\"Zip\"]=places_response['locations'][0]['address']['postal_code']\n",
    "\n",
    "print(f'business name: {BizName}  biz ID: {ListingID} \\nCity: {BizCity}  State: {BizSt}  Zip: {BizZip}\\nReviewID: {ReviewID}  Rating: {ReviewRating}'    )\n",
    "review_df"
   ]
  },
  {
   "cell_type": "code",
   "execution_count": 64,
   "metadata": {},
   "outputs": [],
   "source": [
    "# Uncomment to see a clean print of the json in the places detail response above\n",
    "# print(json.dumps(places_response, indent=4, sort_keys=True))"
   ]
  },
  {
   "cell_type": "markdown",
   "metadata": {},
   "source": [
    "We need to:\n",
    "    1. Set up a dataframe blank table\n",
    "    2. set up for loops for each API call and itterate through to capture our data"
   ]
  },
  {
   "cell_type": "code",
   "execution_count": null,
   "metadata": {},
   "outputs": [],
   "source": [
    "# checking out offers API\n"
   ]
  }
 ],
 "metadata": {
  "kernelspec": {
   "display_name": "Python 3",
   "language": "python",
   "name": "python3"
  },
  "language_info": {
   "codemirror_mode": {
    "name": "ipython",
    "version": 3
   },
   "file_extension": ".py",
   "mimetype": "text/x-python",
   "name": "python",
   "nbconvert_exporter": "python",
   "pygments_lexer": "ipython3",
   "version": "3.8.5"
  }
 },
 "nbformat": 4,
 "nbformat_minor": 4
}
